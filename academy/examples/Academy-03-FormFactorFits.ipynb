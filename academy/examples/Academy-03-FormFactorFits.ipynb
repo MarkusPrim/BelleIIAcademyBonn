{
 "cells": [
  {
   "cell_type": "code",
   "execution_count": null,
   "id": "9b736562-3ccd-48e6-9aeb-5f87466a7048",
   "metadata": {},
   "outputs": [],
   "source": [
    "%matplotlib inline"
   ]
  },
  {
   "cell_type": "code",
   "execution_count": null,
   "id": "a1f03aec-78df-4ae8-9d96-d1439fb4645a",
   "metadata": {},
   "outputs": [],
   "source": [
    "import matplotlib.pyplot as plt\n",
    "import numpy as np\n",
    "import uncertainties.unumpy as unp\n",
    "from uncertainties import ufloat, correlated_values_norm, correlated_values, covariance_matrix, correlation_matrix\n",
    "from iminuit import Minuit\n",
    "from matplotlib.ticker import (MultipleLocator, AutoMinorLocator)\n",
    "import gvar"
   ]
  },
  {
   "cell_type": "code",
   "execution_count": null,
   "id": "34a0fb34-f652-4594-8e0a-77f9989d1622",
   "metadata": {},
   "outputs": [],
   "source": [
    "from academy.rates.BtoV import BtoV\n",
    "from academy.formfactors.BGL import BToDStarBGL\n",
    "from academy.formfactors.CLN import BToDStarCLN"
   ]
  },
  {
   "cell_type": "code",
   "execution_count": null,
   "id": "84daf116-3827-4bf1-982a-190d290b62e9",
   "metadata": {},
   "outputs": [],
   "source": [
    "tauBzero = 1.520e-12 * 1. / 6.582119e-16 / 1e-9\n",
    "tauBplus = 1.638e-12 * 1. / 6.582119e-16 / 1e-9"
   ]
  },
  {
   "cell_type": "markdown",
   "id": "bb577998-8084-4a36-8540-f491d6bf4d66",
   "metadata": {
    "tags": []
   },
   "source": [
    "# Inputs\n",
    "\n",
    "We load more than we need for this example down below. But these code snippets to load the lattice data can be used later when implementing your own fits with lattice constraints."
   ]
  },
  {
   "cell_type": "markdown",
   "id": "9150b26f-33ed-4dad-9270-96f4a59b5728",
   "metadata": {},
   "source": [
    "## Fit Results"
   ]
  },
  {
   "cell_type": "code",
   "execution_count": null,
   "id": "097e6a1d-2a17-47a7-9790-161f4bfa5985",
   "metadata": {},
   "outputs": [],
   "source": [
    "data = np.array(correlated_values(\n",
    "    np.load(\"output/Unfolding/data/minv_central_values_full.npy\"),\n",
    "    np.load(\"output/Unfolding/data/minv_covariance_full.npy\")\n",
    "))"
   ]
  },
  {
   "cell_type": "code",
   "execution_count": null,
   "id": "88b19fb2-4987-4af7-9730-b919e9a04a6e",
   "metadata": {},
   "outputs": [],
   "source": [
    "data_shape = np.array([\n",
    "    *(data[ 0:10] / sum(data[ 0:10])),\n",
    "    *(data[10:20] / sum(data[10:20])),\n",
    "    *(data[20:30] / sum(data[20:30])),\n",
    "    *(data[30:40] / sum(data[30:40])),\n",
    "])\n",
    "\n",
    "data_norm = np.array([\n",
    "    (sum(data[ 0:10]) + sum(data[10:20])) / 2,\n",
    "    (sum(data[20:30]) + sum(data[30:40])) / 2\n",
    "])"
   ]
  },
  {
   "cell_type": "markdown",
   "id": "d7c8fbba-3408-40ac-82ba-0a52055d96fc",
   "metadata": {},
   "source": [
    "## Lattice 2014\n",
    "\n",
    "This is a single data point at zero-recoil for h_A1. https://arxiv.org/pdf/1403.0635.pdf"
   ]
  },
  {
   "cell_type": "code",
   "execution_count": null,
   "id": "63f10af3-1e1c-47ec-8cf2-0b79541e37a9",
   "metadata": {},
   "outputs": [],
   "source": [
    "hA1_2014 = ufloat(0.906 , (0.004**2 + 0.012**2)**0.5)\n",
    "hA1_2014"
   ]
  },
  {
   "cell_type": "code",
   "execution_count": null,
   "id": "f5f5e195-4b65-4ff3-b822-dfeda98efc17",
   "metadata": {},
   "outputs": [],
   "source": [
    "def make_plot_pretty(ax, bin_edges_all):\n",
    "    \n",
    "    tmp = {}\n",
    "    for voi in fit_vois:\n",
    "        tmp[voi] = np.array([(lower, upper) for lower, upper in zip(bin_edges_all[voi], bin_edges_all[voi][1:])])\n",
    "    tmp = np.array([b for voi in fit_vois for b in tmp[voi]])\n",
    "    \n",
    "    # We want to show all ticks...\n",
    "    ax.set_xticks(np.arange(len(tmp)))\n",
    "    # ... and label them with the respective list entries\n",
    "    ax.set_xticklabels([f\"[{lower:.2f}, {upper:.2f}]\" for lower, upper in tmp], rotation=90, fontsize=6)\n",
    "    ax.xaxis.set_minor_locator(MultipleLocator(1))\n",
    "\n",
    "    ax.set_xlim(-0.5, 19.5)\n",
    "\n",
    "    ax.axvline(9.5, color=\"black\")\n",
    "\n",
    "    ax.text(0.00+0.12, 1.02, r\"$w$\", fontsize=10, transform=ax.transAxes)\n",
    "    ax.text(0.55+0.08, 1.02, r\"$\\cos \\theta_\\ell$\", fontsize=10, transform=ax.transAxes)\n",
    "    \n",
    "    ax.legend(frameon=False, fontsize=\"x-small\", ncol=1, loc='upper left')\n",
    "    return ax\n",
    "\n",
    "markers = {\n",
    "    15: \"v\",\n",
    "    16: \"s\",\n",
    "    # (15, 16): \"o\",\n",
    "    17: \"o\",\n",
    "    18: \"X\",\n",
    "    # (17, 18): \"o\"\n",
    "    \n",
    "}\n",
    "\n",
    "bin_edges_wReco = np.array([*np.linspace(1.0, 1.45, num=10), 1.504]) \n",
    "bin_edges_costhetalReco = np.array([*np.linspace(-1, 1, num=11)])\n",
    "\n",
    "bin_edges_all = { \n",
    "    \"wReco\": bin_edges_wReco,\n",
    "    \"costhetalReco\": bin_edges_costhetalReco,\n",
    "}\n",
    "\n",
    "fit_vois = [\"wReco\", \"costhetalReco\"]"
   ]
  },
  {
   "cell_type": "markdown",
   "id": "ccf3d4b5-67ed-4a24-b301-e2f7d74e92e3",
   "metadata": {},
   "source": [
    "# Initialize and Use the eFFORT Class\n",
    "\n",
    "Definitions of masses"
   ]
  },
  {
   "cell_type": "code",
   "execution_count": null,
   "id": "19ff1722-01d5-4a81-9a84-3b13d520c7ff",
   "metadata": {
    "tags": []
   },
   "outputs": [],
   "source": [
    "m_Bzero = 5.27963\n",
    "m_Bplus = 5.27932\n",
    "m_Dstarzero = 2.00685\n",
    "m_Dstarplus = 2.01026"
   ]
  },
  {
   "cell_type": "markdown",
   "id": "08af9f66-3b91-43dc-8b25-01eebc6230e9",
   "metadata": {},
   "source": [
    "Initialize a FF class, and then a rate class with our defined form factor."
   ]
  },
  {
   "cell_type": "code",
   "execution_count": null,
   "id": "4ba0ca1d-56e1-4d38-a63a-17d54d0c0012",
   "metadata": {},
   "outputs": [],
   "source": [
    "lattice2 = gvar.gload(\"lattice_data/FitResults.PyDat\")\n",
    "#for x in lattice2:\n",
    "#    print(f\"{x} = {ufloat(gvar.mean(lattice2[x]), gvar.sdev(lattice2[x]))}\")\n",
    "    \n",
    "lattice_coefficients = [\n",
    "    lattice2[\"LQCD_a0\"],\n",
    "    lattice2[\"LQCD_a1\"],\n",
    "    lattice2[\"LQCD_a2\"],\n",
    "    lattice2[\"LQCD_b0\"],\n",
    "    lattice2[\"LQCD_b1\"],\n",
    "    lattice2[\"LQCD_b2\"],\n",
    "    lattice2[\"LQCD_c1\"],\n",
    "    lattice2[\"LQCD_c2\"],\n",
    "]\n",
    "\n",
    "lattice_coefficients = correlated_values(\n",
    "    gvar.mean(lattice_coefficients),\n",
    "    gvar.evalcov(lattice_coefficients)\n",
    ")"
   ]
  },
  {
   "cell_type": "code",
   "execution_count": null,
   "id": "f4b82638-7de5-408a-9fff-cb514d34b63a",
   "metadata": {},
   "outputs": [],
   "source": [
    "BzeroToDStarBGLLattice = BToDStarBGL(\n",
    "    m_B=m_Bzero,\n",
    "    m_V=m_Dstarplus,\n",
    "    exp_coeff_a = lattice_coefficients[0:3],\n",
    "    exp_coeff_b = lattice_coefficients[3:6],\n",
    "    exp_coeff_c = lattice_coefficients[6:],\n",
    ")\n",
    "\n",
    "rate_lattice = BtoV(BzeroToDStarBGLLattice, Vcb=1)"
   ]
  },
  {
   "cell_type": "markdown",
   "id": "df329136-8a63-47ae-b32e-9868ab5e4597",
   "metadata": {},
   "source": [
    "Do the calculation first, then plot later."
   ]
  },
  {
   "cell_type": "code",
   "execution_count": null,
   "id": "9ffcdda7-7707-416c-be38-b0f2c47d99da",
   "metadata": {},
   "outputs": [],
   "source": [
    "w_edges = np.array([1.00000001, 1.05, 1.10, 1.15, 1.20, 1.25, 1.30, 1.35, 1.40, 1.45, 1.503549794359789])\n",
    "cosTheteaL_edges = np.linspace(-1, 1, 11)"
   ]
  },
  {
   "cell_type": "code",
   "execution_count": null,
   "id": "530863a2-c1fd-49e0-8f47-17d50d879163",
   "metadata": {},
   "outputs": [],
   "source": [
    "w_range = np.linspace(*rate_lattice.FF.kinematics.w_range_numerical_stable)\n",
    "cosL_range = np.linspace(*rate_lattice.FF.kinematics.cosL_range)"
   ]
  },
  {
   "cell_type": "code",
   "execution_count": null,
   "id": "16083730-63ae-4672-909f-0b82bd41f77e",
   "metadata": {},
   "outputs": [],
   "source": [
    "total_rate_lattice = rate_lattice.Gamma()\n",
    "w_rate_lattice = [rate_lattice.dGamma_dw(w) / total_rate_lattice       * (max(w_range) - min(w_range))       for w in w_range]\n",
    "cosL_rate_lattice = [rate_lattice.dGamma_dcosL(w) / total_rate_lattice * (max(cosL_range) - min(cosL_range)) for w in cosL_range]"
   ]
  },
  {
   "cell_type": "code",
   "execution_count": null,
   "id": "e39cb25d-1cda-4963-8840-0af277212352",
   "metadata": {},
   "outputs": [],
   "source": [
    "fig, ax = plt.subplots(dpi=130, figsize=(6.4, 4.4))\n",
    "\n",
    "ax.plot(np.linspace( 0-0.5, 10-0.5), unp.nominal_values(w_rate_lattice), color=\"tab:green\")\n",
    "ax.fill_between(\n",
    "    np.linspace( 0-0.5, 10-0.5), \n",
    "    unp.nominal_values(w_rate_lattice) + unp.std_devs(w_rate_lattice),\n",
    "    unp.nominal_values(w_rate_lattice) - unp.std_devs(w_rate_lattice),\n",
    "    alpha=0.5, color=\"tab:green\", label=r\"BGL$_{332}$ (Lattice)\"\n",
    ")\n",
    "ax.plot(np.linspace(10-0.5, 20-0.5), unp.nominal_values(cosL_rate_lattice), color=\"tab:green\")\n",
    "ax.fill_between(\n",
    "    np.linspace(10-0.5, 20-0.5),\n",
    "    unp.nominal_values(cosL_rate_lattice) + unp.std_devs(cosL_rate_lattice),\n",
    "    unp.nominal_values(cosL_rate_lattice) - unp.std_devs(cosL_rate_lattice),\n",
    "    alpha=0.5, color=\"tab:green\"\n",
    ")\n",
    "\n",
    "make_plot_pretty(ax, bin_edges_all)\n",
    "ax.set_ylim(0, 2)\n",
    "ax.set_ylabel(r\"$1 / \\Gamma \\mathrm{d} \\Gamma / \\mathrm{d}x$\")\n",
    "plt.tight_layout()\n",
    "plt.show()\n",
    "plt.close()"
   ]
  },
  {
   "cell_type": "markdown",
   "id": "0845b01b-9760-4575-b3cc-0dc133a609e6",
   "metadata": {},
   "source": [
    "# Fitting The Spectrum\n",
    "\n",
    "## Calculate a Prediction"
   ]
  },
  {
   "cell_type": "markdown",
   "id": "fe78f76a-0390-4f65-bc2e-fac02244f10d",
   "metadata": {},
   "source": [
    "First exercise: Plot the prediction for the rate in bins of w, cosThetaL, cosThetaV, and chi. This can be used later when implementing your chi2 fit.\n",
    "\n",
    "Let us initialize a new class for fitting, where we will vary the coefficients away from the lattice coefficients. As starting values, use the lattice"
   ]
  },
  {
   "cell_type": "code",
   "execution_count": null,
   "id": "10ac6c0e-d04e-40fb-9fc3-e020f1a1aea5",
   "metadata": {},
   "outputs": [],
   "source": [
    "BzeroToDStarBGLFit = BToDStarBGL(\n",
    "    m_B=m_Bzero,\n",
    "    m_V=m_Dstarplus,\n",
    "    exp_coeff_a = unp.nominal_values(lattice_coefficients[0:3]),\n",
    "    exp_coeff_b = unp.nominal_values(lattice_coefficients[3:6]),\n",
    "    exp_coeff_c = unp.nominal_values(lattice_coefficients[6:]),\n",
    ")\n",
    "\n",
    "rate_fit = BtoV(BzeroToDStarBGLFit, Vcb=1)"
   ]
  },
  {
   "cell_type": "code",
   "execution_count": null,
   "id": "80b02c44-3792-4018-8413-8e821510e36c",
   "metadata": {},
   "outputs": [],
   "source": [
    "# Integration close to the boundaries is problematic, hence we go epsilon away from it\n",
    "BzeroToDStarBGLFit.kinematics.w_range_numerical_stable"
   ]
  },
  {
   "cell_type": "code",
   "execution_count": null,
   "id": "5040e761-9089-4428-a0f1-af3ef12ec8df",
   "metadata": {},
   "outputs": [],
   "source": [
    "def prediction_shape(x):\n",
    "    \"\"\"Make a prediction for the shape given the coefficients and Vcb.\n",
    "    \n",
    "    x = [a0, a1, a2, b0, b1, b2, c1, c2, c3, Vcb]\n",
    "    \"\"\"\n",
    "    rate_fit.FF.set_expansion_coefficients(x[:3], x[3:6], x[6:9])\n",
    "    rate_fit.Vcb = x[-1]\n",
    "    total_rate = rate_fit.Gamma()\n",
    "    prediction = np.array([\n",
    "        [rate_fit.DGamma_Dw(l, u) / (u-l) * (w_edges[-1] - w_edges[0]) for l, u in zip(w_edges, w_edges[1:])],\n",
    "        [rate_fit.DGamma_DcosL(l, u) / (u-l) * (cosTheteaL_edges[-1] - cosTheteaL_edges[0]) for l, u in zip(cosTheteaL_edges, cosTheteaL_edges[1:])],\n",
    "    ]).flatten() / total_rate\n",
    "    \n",
    "    # Calculate the prediction in 20 bins, 10 for w, 10 for cosThetaL\n",
    "    return prediction"
   ]
  },
  {
   "cell_type": "code",
   "execution_count": null,
   "id": "4f9b7772-d601-477e-9b3d-d2ed60d48df6",
   "metadata": {},
   "outputs": [],
   "source": [
    "x0 = np.array([*lattice_coefficients, 0, 1])  # [a0, a1, a2, b0, b1, b2, c1, c2, c3=0, Vcb=1]\n",
    "myPrediction = prediction_shape(x0)"
   ]
  },
  {
   "cell_type": "code",
   "execution_count": null,
   "id": "9836e4a5-ff34-4b74-ad30-38e603fc5875",
   "metadata": {},
   "outputs": [],
   "source": [
    "fig, ax = plt.subplots(dpi=130, figsize=(6.4, 4.4))\n",
    "\n",
    "ax.errorbar(\n",
    "    range(0, 10),\n",
    "    y=unp.nominal_values(data_shape[ 0:10]) / np.array([(u-l) / (w_edges[-1] - w_edges[0]) for l, u in zip(w_edges, w_edges[1:])]),\n",
    "    yerr=unp.std_devs(data_shape[ 0:10]) / np.array([(u-l) / (w_edges[-1] - w_edges[0]) for l, u in zip(w_edges, w_edges[1:])]),\n",
    "    marker=\"v\", ls=\"\", color=\"black\", label=r\"$e$\"\n",
    ")\n",
    "\n",
    "ax.errorbar(\n",
    "    range(10, 20),\n",
    "    y=unp.nominal_values(data_shape[10:20]) / np.array([(u-l) / (cosTheteaL_edges[-1] - cosTheteaL_edges[0]) for l, u in zip(cosTheteaL_edges, cosTheteaL_edges[1:])]),\n",
    "    yerr=unp.std_devs(data_shape[10:20]) / np.array([(u-l) / (cosTheteaL_edges[-1] - cosTheteaL_edges[0]) for l, u in zip(cosTheteaL_edges, cosTheteaL_edges[1:])]),\n",
    "    marker=\"v\", ls=\"\", color=\"black\"\n",
    ")\n",
    "\n",
    "\n",
    "ax.errorbar(\n",
    "    range(0, 10),\n",
    "    y=unp.nominal_values(data_shape[20:30]) / np.array([(u-l) / (w_edges[-1] - w_edges[0]) for l, u in zip(w_edges, w_edges[1:])]),\n",
    "    yerr=unp.std_devs(data_shape[20:30]) / np.array([(u-l) / (w_edges[-1] - w_edges[0]) for l, u in zip(w_edges, w_edges[1:])]),\n",
    "    marker=\"^\", ls=\"\", color=\"black\", label=r\"$\\mu$\"\n",
    ")\n",
    "\n",
    "ax.errorbar(\n",
    "    range(10, 20),\n",
    "    y=unp.nominal_values(data_shape[30:40]) / np.array([(u-l) / (cosTheteaL_edges[-1] - cosTheteaL_edges[0]) for l, u in zip(cosTheteaL_edges, cosTheteaL_edges[1:])]),\n",
    "    yerr=unp.std_devs(data_shape[30:40]) / np.array([(u-l) / (cosTheteaL_edges[-1] - cosTheteaL_edges[0]) for l, u in zip(cosTheteaL_edges, cosTheteaL_edges[1:])]),\n",
    "    marker=\"^\", ls=\"\", color=\"black\"\n",
    ")\n",
    "\n",
    "ax.plot(np.linspace( 0-0.5, 10-0.5), unp.nominal_values(w_rate_lattice), color=\"tab:blue\")\n",
    "ax.fill_between(\n",
    "    np.linspace( 0-0.5, 10-0.5), \n",
    "    unp.nominal_values(w_rate_lattice) + unp.std_devs(w_rate_lattice),\n",
    "    unp.nominal_values(w_rate_lattice) - unp.std_devs(w_rate_lattice),\n",
    "    alpha=0.5, color=\"tab:blue\", label=r\"BGL$_{332}$ (Lattice)\"\n",
    ")\n",
    "ax.plot(np.linspace(10-0.5, 20-0.5), unp.nominal_values(cosL_rate_lattice), color=\"tab:blue\")\n",
    "ax.fill_between(\n",
    "    np.linspace(10-0.5, 20-0.5),\n",
    "    unp.nominal_values(cosL_rate_lattice) + unp.std_devs(cosL_rate_lattice),\n",
    "    unp.nominal_values(cosL_rate_lattice) - unp.std_devs(cosL_rate_lattice),\n",
    "    alpha=0.5, color=\"tab:blue\"\n",
    ")\n",
    "\n",
    "ax.bar(range(20), width=1, bottom=unp.nominal_values(myPrediction) - unp.std_devs(myPrediction), height=2*unp.std_devs(myPrediction), color=\"tab:orange\", alpha=0.5, label=\"Prediction\")\n",
    "\n",
    "make_plot_pretty(ax, bin_edges_all)\n",
    "ax.set_ylim(0, 2)\n",
    "ax.set_ylabel(r\"$1 / \\Gamma \\mathrm{d} \\Gamma / \\mathrm{d}x$\")\n",
    "plt.tight_layout()\n",
    "plt.show()\n",
    "plt.close()"
   ]
  },
  {
   "cell_type": "code",
   "execution_count": null,
   "id": "a1ed6f17-9a98-4b36-b2c6-c5aa2eab8c2c",
   "metadata": {},
   "outputs": [],
   "source": [
    "def prediction_rate(x):\n",
    "    \"\"\"Make a prediction for the absolute rate given the coefficients and Vcb.\n",
    "    \n",
    "    x = [a0, a1, a2, b0, b1, b2, c1, c2, c3, Vcb]\n",
    "    \"\"\"\n",
    "    rate_fit.FF.set_expansion_coefficients(x[:3], x[3:6], x[6:9])\n",
    "    rate_fit.Vcb = x[-1]\n",
    "    return rate_fit.Gamma()"
   ]
  },
  {
   "cell_type": "code",
   "execution_count": null,
   "id": "0ce08511-b7eb-470f-a0b6-b6419840a96c",
   "metadata": {},
   "outputs": [],
   "source": [
    "def prediction_form_factor(x):\n",
    "    \"\"\"Make a prediction for hA1 given the coefficients and Vcb.\n",
    "    \n",
    "    x = [a0, a1, a2, b0, b1, b2, c1, c2, c3, Vcb]\n",
    "    \"\"\"\n",
    "    rate_fit.FF.set_expansion_coefficients(x[:3], x[3:6], x[6:9])\n",
    "    rate_fit.Vcb = x[-1]\n",
    "    return rate_fit.FF.h_A1(1)"
   ]
  },
  {
   "cell_type": "markdown",
   "id": "d9aebac1-ef97-46c7-875c-3bb393accfbf",
   "metadata": {},
   "source": [
    "## Exercise: Chi2 for Vcb and FF Extraction\n",
    "\n",
    "Next we need to implement our chi2 function. It has the form\n",
    "\n",
    "$\\chi^2 = \\chi^2_\\mathrm{Shape} + \\chi^2_\\mathrm{Norm} + \\chi^2_\\mathrm{Lattice}$\n",
    "\n",
    "We calculated the shape already, so let us start with that one.\n",
    "\n",
    "Make use of the following already defined functions:\n",
    "* `prediction_shape` Calculates the shape in 20 bins. You have to delete the same two bins as are deleted in the data shape\n",
    "* `prediction_rate` Calculates the absolute rate (norm)\n",
    "* `prediction_form_factor` Calculate the form factor hA1 at w=1"
   ]
  },
  {
   "cell_type": "code",
   "execution_count": null,
   "id": "de6cdcaa-92a8-4a4f-b982-a2f0086cd0e3",
   "metadata": {},
   "outputs": [],
   "source": [
    "data_norm_fit = data_norm[0]  # only electron"
   ]
  },
  {
   "cell_type": "code",
   "execution_count": null,
   "id": "971b8ff4-4c8e-43f1-902d-9913b75a6227",
   "metadata": {},
   "outputs": [],
   "source": [
    "print(\"mu=\", data_norm_fit.n, \"sigma=\", data_norm_fit.s)"
   ]
  },
  {
   "cell_type": "code",
   "execution_count": null,
   "id": "bb2a6353-4bf8-4d1e-ba57-556611c04f15",
   "metadata": {},
   "outputs": [],
   "source": [
    "data_shape_fit = data_shape[:20]  # only electron\n",
    "data_shape = np.array([  # here we just rescale everything to the same normalization\n",
    "    *(data_shape[ 0:10] / np.array([(u-l) / (w_edges[-1] - w_edges[0]) for l, u in zip(w_edges, w_edges[1:])])),\n",
    "    *(data_shape[10:20] / np.array([(u-l) / (cosTheteaL_edges[-1] - cosTheteaL_edges[0]) for l, u in zip(cosTheteaL_edges, cosTheteaL_edges[1:])]))\n",
    "])\n",
    "# Delete 100% correlated values\n",
    "data_shape_fit = np.delete(data_shape_fit, 19)\n",
    "data_shape_fit = np.delete(data_shape_fit,  9)"
   ]
  },
  {
   "cell_type": "code",
   "execution_count": null,
   "id": "62ac41ba-b7b2-4c74-9a8e-58ee47066781",
   "metadata": {},
   "outputs": [],
   "source": [
    "data_shape_covariance_fit = np.array(covariance_matrix(data_shape_fit))\n",
    "shape_Cinv = np.linalg.inv(data_shape_covariance_fit)  # Just do it once because it is computational expensive\n",
    "data_shape_fit = np.array(unp.nominal_values(data_shape_fit))"
   ]
  },
  {
   "cell_type": "code",
   "execution_count": null,
   "id": "0b60afd4-3fa8-465d-b370-0c745dbb1cb2",
   "metadata": {},
   "outputs": [],
   "source": [
    "def chi2(a0, a1, a2, b0, b1, b2, c1, c2, c3, Vcb):\n",
    "    x = np.array([a0, a1, a2, b0, b1, b2, c1, c2, c3, Vcb])\n",
    "    \n",
    "    # Useful variabales here:\n",
    "    # data_shape_fit\n",
    "    # shape_Cinv\n",
    "    # data_norm_fit\n",
    "    # hA1_2014\n",
    "    \n",
    "    prediction = prediction_shape(x)\n",
    "    prediction = np.delete(prediction, 19)\n",
    "    prediction = np.delete(prediction,  9)\n",
    "    delta = prediction - data_shape_fit\n",
    "    chi2_shape = 0 \n",
    "    \n",
    "    chi2_norm = 0\n",
    "    \n",
    "    chi2_lattice = 0\n",
    "\n",
    "    return chi2_norm + chi2_lattice + chi2_shape"
   ]
  },
  {
   "cell_type": "code",
   "execution_count": null,
   "id": "5cdda7be-4c53-4e27-bbac-8b09ab91359c",
   "metadata": {},
   "outputs": [],
   "source": [
    "# Example execution with some values for the form factor coefficients and Vcb\n",
    "chi2(*unp.nominal_values(lattice_coefficients), 0, 40e-3)"
   ]
  },
  {
   "cell_type": "markdown",
   "id": "61195a18-bbd2-4be1-9afc-34f49522dc8c",
   "metadata": {},
   "source": [
    "Number of coefficients for each form factor. Right now we use the numbers given by the lattice, but depending on the sensitivity of the data, the number of parameters has to be decreased to prevent overfitting."
   ]
  },
  {
   "cell_type": "code",
   "execution_count": null,
   "id": "dbbc3163-3aad-41db-bbe7-7e6ae5219b29",
   "metadata": {},
   "outputs": [],
   "source": [
    "a = 2\n",
    "b = 2\n",
    "c = 1"
   ]
  },
  {
   "cell_type": "code",
   "execution_count": null,
   "id": "1d954b1a-0058-4cf2-a566-9ec23b7b877c",
   "metadata": {},
   "outputs": [],
   "source": [
    "m = Minuit(chi2, \n",
    "    a0=lattice_coefficients[0].n if a >= 1 else 0,\n",
    "    a1=lattice_coefficients[1].n if a >= 2 else 0,\n",
    "    a2=lattice_coefficients[2].n if a >= 3 else 0,\n",
    "    b0=lattice_coefficients[3].n if b >= 1 else 0,\n",
    "    b1=lattice_coefficients[4].n if b >= 2 else 0,\n",
    "    b2=lattice_coefficients[5].n if b >= 3 else 0,\n",
    "    c1=lattice_coefficients[6].n if c >= 1 else 0,\n",
    "    c2=lattice_coefficients[7].n if c >= 2 else 0,\n",
    "    c3=0,\n",
    "    Vcb=40e-3,\n",
    "  )\n",
    "\n",
    "m.fixed[\"a0\"] = True if a <= 0 else False\n",
    "m.fixed[\"b0\"] = True if b <= 0 else False\n",
    "m.fixed[\"c1\"] = True if c <= 0 else False\n",
    "\n",
    "m.fixed[\"a1\"] = True if a <= 1 else False\n",
    "m.fixed[\"b1\"] = True if b <= 1 else False\n",
    "m.fixed[\"c2\"] = True if c <= 1 else False\n",
    "\n",
    "m.fixed[\"a2\"] = True if a <= 2 else False\n",
    "m.fixed[\"b2\"] = True if b <= 2 else False\n",
    "m.fixed[\"c3\"] = True if c <= 2 else False\n",
    "\n",
    "m.simplex()\n",
    "m.migrad() \n",
    "m.hesse()  \n",
    "m"
   ]
  },
  {
   "cell_type": "code",
   "execution_count": null,
   "id": "35a34760-df30-4529-bd6a-21fc36cb20be",
   "metadata": {},
   "outputs": [],
   "source": []
  },
  {
   "cell_type": "code",
   "execution_count": null,
   "id": "362d2f35-eaab-4e91-bcc7-0e4aa4f56e2a",
   "metadata": {},
   "outputs": [],
   "source": []
  }
 ],
 "metadata": {
  "kernelspec": {
   "display_name": "Python 3 (ipykernel)",
   "language": "python",
   "name": "python3"
  },
  "language_info": {
   "codemirror_mode": {
    "name": "ipython",
    "version": 3
   },
   "file_extension": ".py",
   "mimetype": "text/x-python",
   "name": "python",
   "nbconvert_exporter": "python",
   "pygments_lexer": "ipython3",
   "version": "3.8.8"
  },
  "toc-autonumbering": false
 },
 "nbformat": 4,
 "nbformat_minor": 5
}
