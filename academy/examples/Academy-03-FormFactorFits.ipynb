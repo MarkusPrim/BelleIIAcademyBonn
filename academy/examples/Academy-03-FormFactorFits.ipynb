{
 "cells": [
  {
   "cell_type": "code",
   "execution_count": 1,
   "id": "9b736562-3ccd-48e6-9aeb-5f87466a7048",
   "metadata": {},
   "outputs": [],
   "source": [
    "%matplotlib inline"
   ]
  },
  {
   "cell_type": "code",
   "execution_count": 2,
   "id": "a1f03aec-78df-4ae8-9d96-d1439fb4645a",
   "metadata": {},
   "outputs": [],
   "source": [
    "import matplotlib.pyplot as plt\n",
    "import numpy as np\n",
    "import uncertainties.unumpy as unp\n",
    "from uncertainties import ufloat, correlated_values_norm, correlated_values, covariance_matrix, correlation_matrix\n",
    "from iminuit import Minuit\n",
    "from matplotlib.ticker import (MultipleLocator, AutoMinorLocator)\n",
    "import gvar"
   ]
  },
  {
   "cell_type": "code",
   "execution_count": 3,
   "id": "34a0fb34-f652-4594-8e0a-77f9989d1622",
   "metadata": {},
   "outputs": [],
   "source": [
    "from academy.rates.BtoV import BtoV\n",
    "from academy.formfactors.BGL import BToDStarBGL\n",
    "from academy.formfactors.CLN import BToDStarCLN"
   ]
  },
  {
   "cell_type": "code",
   "execution_count": 4,
   "id": "84daf116-3827-4bf1-982a-190d290b62e9",
   "metadata": {},
   "outputs": [],
   "source": [
    "tauBzero = 1.520e-12 * 1. / 6.582119e-16 / 1e-9\n",
    "tauBplus = 1.638e-12 * 1. / 6.582119e-16 / 1e-9"
   ]
  },
  {
   "cell_type": "markdown",
   "id": "bb577998-8084-4a36-8540-f491d6bf4d66",
   "metadata": {
    "tags": []
   },
   "source": [
    "# Inputs\n",
    "\n",
    "We load more than we need for this example down below. But these code snippets to load the lattice data can be used later when implementing your own fits with lattice constraints."
   ]
  },
  {
   "cell_type": "markdown",
   "id": "9150b26f-33ed-4dad-9270-96f4a59b5728",
   "metadata": {},
   "source": [
    "## Fit Results"
   ]
  },
  {
   "cell_type": "code",
   "execution_count": 22,
   "id": "097e6a1d-2a17-47a7-9790-161f4bfa5985",
   "metadata": {},
   "outputs": [],
   "source": [
    "data = np.array(correlated_values(\n",
    "    np.load(\"output/Unfolding/data/minv_central_values_full.npy\"),\n",
    "    np.load(\"output/Unfolding/data/minv_covariance_full.npy\")\n",
    "))"
   ]
  },
  {
   "cell_type": "code",
   "execution_count": 81,
   "id": "88b19fb2-4987-4af7-9730-b919e9a04a6e",
   "metadata": {},
   "outputs": [],
   "source": [
    "data_shape = np.array([\n",
    "    *(data[ 0:10] / sum(data[ 0:10])),\n",
    "    *(data[10:20] / sum(data[10:20])),\n",
    "    *(data[20:30] / sum(data[20:30])),\n",
    "    *(data[30:40] / sum(data[30:40])),\n",
    "])\n",
    "\n",
    "data_norm = np.array([\n",
    "    (sum(data[ 0:10]) + sum(data[10:20])) / 2,\n",
    "    (sum(data[20:30]) + sum(data[30:40])) / 2\n",
    "])"
   ]
  },
  {
   "cell_type": "markdown",
   "id": "d7c8fbba-3408-40ac-82ba-0a52055d96fc",
   "metadata": {},
   "source": [
    "## Lattice 2014\n",
    "\n",
    "This is a single data point at zero-recoil for h_A1. https://arxiv.org/pdf/1403.0635.pdf"
   ]
  },
  {
   "cell_type": "code",
   "execution_count": 5,
   "id": "63f10af3-1e1c-47ec-8cf2-0b79541e37a9",
   "metadata": {},
   "outputs": [
    {
     "data": {
      "text/plain": [
       "0.906+/-0.012649110640673518"
      ]
     },
     "execution_count": 5,
     "metadata": {},
     "output_type": "execute_result"
    }
   ],
   "source": [
    "hA1_2014 = ufloat(0.906 , (0.004**2 + 0.012**2)**0.5)\n",
    "hA1_2014"
   ]
  },
  {
   "cell_type": "markdown",
   "id": "d056b918-f4b3-4cf6-8c85-fb3da8b18d1d",
   "metadata": {},
   "source": [
    "## New Lattice Results\n",
    "\n",
    "These results are on arXiv, but not published yet. They provide data points with correlations for the form factors directly, and in the form of BGL coefficients. We will use the latter to initialize an effort2 class and plot the distributions."
   ]
  },
  {
   "cell_type": "code",
   "execution_count": 6,
   "id": "d5c6ebc1-501a-4305-9314-9a2bfeb8db15",
   "metadata": {},
   "outputs": [],
   "source": [
    "lattice = gvar.gload(\"lattice_data/SynthData.PyDat\")\n",
    "#for x in lattice:\n",
    "#    print(f\"{x} = {ufloat(gvar.mean(lattice[x]), gvar.sdev(lattice[x]))}\")"
   ]
  },
  {
   "cell_type": "code",
   "execution_count": 7,
   "id": "6a6ed2ac-d7f6-48d8-87f1-2ee9e12275ca",
   "metadata": {},
   "outputs": [],
   "source": [
    "g_all = [lattice[\"g(1.03)\"], lattice[\"g(1.10)\"], lattice[\"g(1.17)\"]]\n",
    "g_all = correlated_values(\n",
    "    gvar.mean(g_all),\n",
    "    gvar.evalcov(g_all)\n",
    ")\n",
    "\n",
    "f_all = [lattice[\"f(1.03)\"], lattice[\"f(1.10)\"], lattice[\"f(1.17)\"]]\n",
    "f_all = correlated_values(\n",
    "    gvar.mean(f_all),\n",
    "    gvar.evalcov(f_all)\n",
    ")\n",
    "\n",
    "F1_all = [lattice[\"F1(1.03)\"], lattice[\"F1(1.10)\"], lattice[\"F1(1.17)\"]]\n",
    "F1_all = correlated_values(\n",
    "    gvar.mean(F1_all),\n",
    "    gvar.evalcov(F1_all)\n",
    ")"
   ]
  },
  {
   "cell_type": "code",
   "execution_count": 8,
   "id": "77ad93cc-14fa-43af-9612-c92e8c62a64f",
   "metadata": {},
   "outputs": [],
   "source": [
    "lattice2 = gvar.gload(\"lattice_data/FitResults.PyDat\")\n",
    "#for x in lattice2:\n",
    "#    print(f\"{x} = {ufloat(gvar.mean(lattice2[x]), gvar.sdev(lattice2[x]))}\")\n",
    "    \n",
    "lattice_coefficients = [\n",
    "    lattice2[\"LQCD_a0\"],\n",
    "    lattice2[\"LQCD_a1\"],\n",
    "    lattice2[\"LQCD_a2\"],\n",
    "    lattice2[\"LQCD_b0\"],\n",
    "    lattice2[\"LQCD_b1\"],\n",
    "    lattice2[\"LQCD_b2\"],\n",
    "    lattice2[\"LQCD_c1\"],\n",
    "    lattice2[\"LQCD_c2\"],\n",
    "]\n",
    "\n",
    "lattice_coefficients = correlated_values(\n",
    "    gvar.mean(lattice_coefficients),\n",
    "    gvar.evalcov(lattice_coefficients)\n",
    ")"
   ]
  },
  {
   "cell_type": "code",
   "execution_count": 9,
   "id": "0c9615db-2bef-471d-b53f-92f309604a2a",
   "metadata": {},
   "outputs": [],
   "source": [
    "hA1 = ufloat(lattice[\"hA1(1.00)\"].mean, lattice[\"hA1(1.00)\"].sdev)\n",
    "\n",
    "hA1_all = [lattice[\"hA1(1.03)\"], lattice[\"hA1(1.10)\"], lattice[\"hA1(1.17)\"]]\n",
    "hA1_all = correlated_values(\n",
    "    gvar.mean(hA1_all),\n",
    "    gvar.evalcov(hA1_all)\n",
    ")"
   ]
  },
  {
   "cell_type": "code",
   "execution_count": 10,
   "id": "f5f5e195-4b65-4ff3-b822-dfeda98efc17",
   "metadata": {},
   "outputs": [],
   "source": [
    "def make_plot_pretty(ax, bin_edges_all):\n",
    "    \n",
    "    tmp = {}\n",
    "    for voi in fit_vois:\n",
    "        tmp[voi] = np.array([(lower, upper) for lower, upper in zip(bin_edges_all[voi], bin_edges_all[voi][1:])])\n",
    "    tmp = np.array([b for voi in fit_vois for b in tmp[voi]])\n",
    "    \n",
    "    # We want to show all ticks...\n",
    "    ax.set_xticks(np.arange(len(tmp)))\n",
    "    # ... and label them with the respective list entries\n",
    "    ax.set_xticklabels([f\"[{lower:.2f}, {upper:.2f}]\" for lower, upper in tmp], rotation=90, fontsize=6)\n",
    "    ax.xaxis.set_minor_locator(MultipleLocator(1))\n",
    "\n",
    "    ax.set_xlim(-0.5, 19.5)\n",
    "\n",
    "    ax.axvline(9.5, color=\"black\")\n",
    "\n",
    "    ax.text(0.00+0.12, 1.02, r\"$w$\", fontsize=10, transform=ax.transAxes)\n",
    "    ax.text(0.55+0.08, 1.02, r\"$\\cos \\theta_\\ell$\", fontsize=10, transform=ax.transAxes)\n",
    "    \n",
    "    ax.legend(frameon=False, fontsize=\"x-small\", ncol=1, loc='upper left')\n",
    "    return ax\n",
    "\n",
    "markers = {\n",
    "    15: \"v\",\n",
    "    16: \"s\",\n",
    "    # (15, 16): \"o\",\n",
    "    17: \"o\",\n",
    "    18: \"X\",\n",
    "    # (17, 18): \"o\"\n",
    "    \n",
    "}\n",
    "\n",
    "bin_edges_wReco = np.array([*np.linspace(1.0, 1.45, num=10), 1.504]) \n",
    "bin_edges_costhetalReco = np.array([*np.linspace(-1, 1, num=11)])\n",
    "\n",
    "bin_edges_all = { \n",
    "    \"wReco\": bin_edges_wReco,\n",
    "    \"costhetalReco\": bin_edges_costhetalReco,\n",
    "}\n",
    "\n",
    "fit_vois = [\"wReco\", \"costhetalReco\"]"
   ]
  },
  {
   "cell_type": "markdown",
   "id": "ccf3d4b5-67ed-4a24-b301-e2f7d74e92e3",
   "metadata": {},
   "source": [
    "# Initialize and Use the eFFORT Class\n",
    "\n",
    "Definitions of masses"
   ]
  },
  {
   "cell_type": "code",
   "execution_count": 11,
   "id": "19ff1722-01d5-4a81-9a84-3b13d520c7ff",
   "metadata": {
    "tags": []
   },
   "outputs": [],
   "source": [
    "m_Bzero = 5.27963\n",
    "m_Bplus = 5.27932\n",
    "m_Dstarzero = 2.00685\n",
    "m_Dstarplus = 2.01026"
   ]
  },
  {
   "cell_type": "markdown",
   "id": "08af9f66-3b91-43dc-8b25-01eebc6230e9",
   "metadata": {},
   "source": [
    "Initialize a FF class, and then a rate class with our defined form factor."
   ]
  },
  {
   "cell_type": "code",
   "execution_count": 12,
   "id": "f4b82638-7de5-408a-9fff-cb514d34b63a",
   "metadata": {},
   "outputs": [],
   "source": [
    "BzeroToDStarBGLLattice = BToDStarBGL(\n",
    "    m_B=m_Bzero,\n",
    "    m_V=m_Dstarplus,\n",
    "    exp_coeff_a = lattice_coefficients[0:3],\n",
    "    exp_coeff_b = lattice_coefficients[3:6],\n",
    "    exp_coeff_c = lattice_coefficients[6:],\n",
    ")\n",
    "\n",
    "rate_lattice = BtoV(BzeroToDStarBGLLattice, Vcb=1)"
   ]
  },
  {
   "cell_type": "markdown",
   "id": "df329136-8a63-47ae-b32e-9868ab5e4597",
   "metadata": {},
   "source": [
    "Do the calculation first, then plot later."
   ]
  },
  {
   "cell_type": "code",
   "execution_count": 43,
   "id": "9ffcdda7-7707-416c-be38-b0f2c47d99da",
   "metadata": {},
   "outputs": [],
   "source": [
    "w_edges = np.array([1.00000001, 1.05, 1.10, 1.15, 1.20, 1.25, 1.30, 1.35, 1.40, 1.45, 1.503549794359789])\n",
    "cosTheteaL_edges = np.linspace(-1, 1, 11)"
   ]
  },
  {
   "cell_type": "code",
   "execution_count": 13,
   "id": "530863a2-c1fd-49e0-8f47-17d50d879163",
   "metadata": {},
   "outputs": [],
   "source": [
    "w_range = np.linspace(*rate_lattice.FF.kinematics.w_range_numerical_stable)\n",
    "cosL_range = np.linspace(*rate_lattice.FF.kinematics.cosL_range)"
   ]
  },
  {
   "cell_type": "code",
   "execution_count": 35,
   "id": "16083730-63ae-4672-909f-0b82bd41f77e",
   "metadata": {},
   "outputs": [],
   "source": [
    "total_rate_lattice = rate_lattice.Gamma()\n",
    "w_rate_lattice = [rate_lattice.dGamma_dw(w) / total_rate_lattice       * (max(w_range) - min(w_range))       for w in w_range]\n",
    "cosL_rate_lattice = [rate_lattice.dGamma_dcosL(w) / total_rate_lattice * (max(cosL_range) - min(cosL_range)) for w in cosL_range]"
   ]
  },
  {
   "cell_type": "code",
   "execution_count": 54,
   "id": "e39cb25d-1cda-4963-8840-0af277212352",
   "metadata": {},
   "outputs": [
    {
     "data": {
      "image/png": "[encoded data removed]",
      "text/plain": [
       "<Figure size 832x572 with 1 Axes>"
      ]
     },
     "metadata": {
      "needs_background": "light"
     },
     "output_type": "display_data"
    }
   ],
   "source": [
    "fig, ax = plt.subplots(dpi=130, figsize=(6.4, 4.4))\n",
    "\n",
    "ax.plot(np.linspace( 0-0.5, 10-0.5), unp.nominal_values(w_rate_lattice), color=\"tab:green\")\n",
    "ax.fill_between(\n",
    "    np.linspace( 0-0.5, 10-0.5), \n",
    "    unp.nominal_values(w_rate_lattice) + unp.std_devs(w_rate_lattice),\n",
    "    unp.nominal_values(w_rate_lattice) - unp.std_devs(w_rate_lattice),\n",
    "    alpha=0.5, color=\"tab:green\", label=r\"BGL$_{332}$ (Lattice)\"\n",
    ")\n",
    "ax.plot(np.linspace(10-0.5, 20-0.5), unp.nominal_values(cosL_rate_lattice), color=\"tab:green\")\n",
    "ax.fill_between(\n",
    "    np.linspace(10-0.5, 20-0.5),\n",
    "    unp.nominal_values(cosL_rate_lattice) + unp.std_devs(cosL_rate_lattice),\n",
    "    unp.nominal_values(cosL_rate_lattice) - unp.std_devs(cosL_rate_lattice),\n",
    "    alpha=0.5, color=\"tab:green\"\n",
    ")\n",
    "\n",
    "make_plot_pretty(ax, bin_edges_all)\n",
    "ax.set_ylim(0, 2)\n",
    "ax.set_ylabel(r\"$1 / \\Gamma \\mathrm{d} \\Gamma / \\mathrm{d}x$\")\n",
    "plt.tight_layout()\n",
    "plt.show()\n",
    "plt.close()"
   ]
  },
  {
   "cell_type": "markdown",
   "id": "0845b01b-9760-4575-b3cc-0dc133a609e6",
   "metadata": {},
   "source": [
    "# Fitting The Spectrum\n",
    "\n",
    "## Calculate a Prediction"
   ]
  },
  {
   "cell_type": "markdown",
   "id": "fe78f76a-0390-4f65-bc2e-fac02244f10d",
   "metadata": {},
   "source": [
    "First exercise: Plot the prediction for the rate in bins of w, cosThetaL, cosThetaV, and chi. This can be used later when implementing your chi2 fit.\n",
    "\n",
    "Let us initialize a new class for fitting, where we will vary the coefficients away from the lattice coefficients. As starting values, use the lattice"
   ]
  },
  {
   "cell_type": "code",
   "execution_count": 55,
   "id": "10ac6c0e-d04e-40fb-9fc3-e020f1a1aea5",
   "metadata": {},
   "outputs": [],
   "source": [
    "BzeroToDStarBGLFit = BToDStarBGL(\n",
    "    m_B=m_Bzero,\n",
    "    m_V=m_Dstarplus,\n",
    "    exp_coeff_a = lattice_coefficients[0:3],\n",
    "    exp_coeff_b = lattice_coefficients[3:6],\n",
    "    exp_coeff_c = lattice_coefficients[6:],\n",
    ")\n",
    "\n",
    "rate_fit = BtoV(BzeroToDStarBGLFit, Vcb=1)"
   ]
  },
  {
   "cell_type": "code",
   "execution_count": 56,
   "id": "80b02c44-3792-4018-8413-8e821510e36c",
   "metadata": {},
   "outputs": [
    {
     "data": {
      "text/plain": [
       "(1.00000001, 1.503549794359789)"
      ]
     },
     "execution_count": 56,
     "metadata": {},
     "output_type": "execute_result"
    }
   ],
   "source": [
    "# Integration close to the boundaries is problematic, hence we go epsilon away from it\n",
    "BzeroToDStarBGLFit.kinematics.w_range_numerical_stable"
   ]
  },
  {
   "cell_type": "code",
   "execution_count": 57,
   "id": "5040e761-9089-4428-a0f1-af3ef12ec8df",
   "metadata": {},
   "outputs": [],
   "source": [
    "def prediction_shape(x):\n",
    "    \"\"\"Make a prediction for the shape given the coefficients and Vcb.\n",
    "    \n",
    "    x = [a0, a1, a2, b0, b1, b2, c1, c2, c3, Vcb]\n",
    "    \"\"\"\n",
    "    rate_fit.FF.set_expansion_coefficients(x[:3], x[3:6], x[6:9])\n",
    "    rate_fit.Vcb = x[-1]\n",
    "    total_rate = rate_fit.Gamma()\n",
    "    prediction = np.array([\n",
    "        [rate_fit.DGamma_Dw(l, u) / (u-l) * (w_edges[-1] - w_edges[0]) for l, u in zip(w_edges, w_edges[1:])],\n",
    "        [rate_fit.DGamma_DcosL(l, u) / (u-l) * (cosTheteaL_edges[-1] - cosTheteaL_edges[0]) for l, u in zip(cosTheteaL_edges, cosTheteaL_edges[1:])],\n",
    "    ]).flatten() / total_rate\n",
    "    \n",
    "    # Calculate the prediction in 20 bins, 10 for w, 10 for cosThetaL\n",
    "    return prediction"
   ]
  },
  {
   "cell_type": "code",
   "execution_count": 58,
   "id": "4f9b7772-d601-477e-9b3d-d2ed60d48df6",
   "metadata": {},
   "outputs": [],
   "source": [
    "x0 = np.array([*lattice_coefficients, 0, 1])  # [a0, a1, a2, b0, b1, b2, c1, c2, c3=0, Vcb=1]\n",
    "myPrediction = prediction_shape(x0)"
   ]
  },
  {
   "cell_type": "code",
   "execution_count": 67,
   "id": "adb8c1ce-78f9-4d85-9c7c-93290a425f25",
   "metadata": {},
   "outputs": [
    {
     "data": {
      "text/plain": [
       "array([0.51542205, 1.03841098, 0.97044521, 1.25738917, 1.18519459,\n",
       "       1.19405487, 1.14908252, 0.9997729 , 0.93248541, 0.77380138])"
      ]
     },
     "execution_count": 67,
     "metadata": {},
     "output_type": "execute_result"
    }
   ],
   "source": [
    "unp.nominal_values(data_shape[ 0:10]) / np.array([(u-l) / (w_edges[-1] - w_edges[0]) for l, u in zip(w_edges, w_edges[1:])])"
   ]
  },
  {
   "cell_type": "code",
   "execution_count": 83,
   "id": "9836e4a5-ff34-4b74-ad30-38e603fc5875",
   "metadata": {},
   "outputs": [
    {
     "data": {
      "image/png": "[encoded data removed]",
      "text/plain": [
       "<Figure size 832x572 with 1 Axes>"
      ]
     },
     "metadata": {
      "needs_background": "light"
     },
     "output_type": "display_data"
    }
   ],
   "source": [
    "fig, ax = plt.subplots(dpi=130, figsize=(6.4, 4.4))\n",
    "\n",
    "ax.errorbar(\n",
    "    range(0, 10),\n",
    "    y=unp.nominal_values(data_shape[ 0:10]) / np.array([(u-l) / (w_edges[-1] - w_edges[0]) for l, u in zip(w_edges, w_edges[1:])]),\n",
    "    yerr=unp.std_devs(data_shape[ 0:10]) / np.array([(u-l) / (w_edges[-1] - w_edges[0]) for l, u in zip(w_edges, w_edges[1:])]),\n",
    "    marker=\"v\", ls=\"\", color=\"black\", label=r\"$e$\"\n",
    ")\n",
    "\n",
    "ax.errorbar(\n",
    "    range(10, 20),\n",
    "    y=unp.nominal_values(data_shape[10:20]) / np.array([(u-l) / (cosTheteaL_edges[-1] - cosTheteaL_edges[0]) for l, u in zip(cosTheteaL_edges, cosTheteaL_edges[1:])]),\n",
    "    yerr=unp.std_devs(data_shape[10:20]) / np.array([(u-l) / (cosTheteaL_edges[-1] - cosTheteaL_edges[0]) for l, u in zip(cosTheteaL_edges, cosTheteaL_edges[1:])]),\n",
    "    marker=\"v\", ls=\"\", color=\"black\"\n",
    ")\n",
    "\n",
    "\n",
    "ax.errorbar(\n",
    "    range(0, 10),\n",
    "    y=unp.nominal_values(data_shape[20:30]) / np.array([(u-l) / (w_edges[-1] - w_edges[0]) for l, u in zip(w_edges, w_edges[1:])]),\n",
    "    yerr=unp.std_devs(data_shape[20:30]) / np.array([(u-l) / (w_edges[-1] - w_edges[0]) for l, u in zip(w_edges, w_edges[1:])]),\n",
    "    marker=\"^\", ls=\"\", color=\"black\", label=r\"$\\mu$\"\n",
    ")\n",
    "\n",
    "ax.errorbar(\n",
    "    range(10, 20),\n",
    "    y=unp.nominal_values(data_shape[30:40]) / np.array([(u-l) / (cosTheteaL_edges[-1] - cosTheteaL_edges[0]) for l, u in zip(cosTheteaL_edges, cosTheteaL_edges[1:])]),\n",
    "    yerr=unp.std_devs(data_shape[30:40]) / np.array([(u-l) / (cosTheteaL_edges[-1] - cosTheteaL_edges[0]) for l, u in zip(cosTheteaL_edges, cosTheteaL_edges[1:])]),\n",
    "    marker=\"^\", ls=\"\", color=\"black\"\n",
    ")\n",
    "\n",
    "ax.plot(np.linspace( 0-0.5, 10-0.5), unp.nominal_values(w_rate_lattice), color=\"tab:blue\")\n",
    "ax.fill_between(\n",
    "    np.linspace( 0-0.5, 10-0.5), \n",
    "    unp.nominal_values(w_rate_lattice) + unp.std_devs(w_rate_lattice),\n",
    "    unp.nominal_values(w_rate_lattice) - unp.std_devs(w_rate_lattice),\n",
    "    alpha=0.5, color=\"tab:blue\", label=r\"BGL$_{332}$ (Lattice)\"\n",
    ")\n",
    "ax.plot(np.linspace(10-0.5, 20-0.5), unp.nominal_values(cosL_rate_lattice), color=\"tab:blue\")\n",
    "ax.fill_between(\n",
    "    np.linspace(10-0.5, 20-0.5),\n",
    "    unp.nominal_values(cosL_rate_lattice) + unp.std_devs(cosL_rate_lattice),\n",
    "    unp.nominal_values(cosL_rate_lattice) - unp.std_devs(cosL_rate_lattice),\n",
    "    alpha=0.5, color=\"tab:blue\"\n",
    ")\n",
    "\n",
    "ax.bar(range(20), width=1, bottom=unp.nominal_values(myPrediction) - unp.std_devs(myPrediction), height=2*unp.std_devs(myPrediction), color=\"tab:orange\", alpha=0.5, label=\"Prediction\")\n",
    "\n",
    "make_plot_pretty(ax, bin_edges_all)\n",
    "ax.set_ylim(0, 2)\n",
    "ax.set_ylabel(r\"$1 / \\Gamma \\mathrm{d} \\Gamma / \\mathrm{d}x$\")\n",
    "plt.tight_layout()\n",
    "plt.show()\n",
    "plt.close()"
   ]
  },
  {
   "cell_type": "code",
   "execution_count": 22,
   "id": "a1ed6f17-9a98-4b36-b2c6-c5aa2eab8c2c",
   "metadata": {},
   "outputs": [],
   "source": [
    "def prediction_rate(x):\n",
    "    \"\"\"Make a prediction for the absolute rate given the coefficients and Vcb.\n",
    "    \n",
    "    x = [a0, a1, a2, b0, b1, b2, c1, c2, c3, Vcb]\n",
    "    \"\"\"\n",
    "    rate_fit.FF.set_expansion_coefficients(x[:3], x[3:6], x[6:9])\n",
    "    rate_fit.Vcb = x[-1]\n",
    "    return rate_fit.Gamma()"
   ]
  },
  {
   "cell_type": "code",
   "execution_count": 23,
   "id": "0ce08511-b7eb-470f-a0b6-b6419840a96c",
   "metadata": {},
   "outputs": [],
   "source": [
    "def prediction_form_factor(x):\n",
    "    \"\"\"Make a prediction for hA1 given the coefficients and Vcb.\n",
    "    \n",
    "    x = [a0, a1, a2, b0, b1, b2, c1, c2, c3, Vcb]\n",
    "    \"\"\"\n",
    "    rate_fit.FF.set_expansion_coefficients(x[:3], x[3:6], x[6:9])\n",
    "    rate_fit.Vcb = x[-1]\n",
    "    return rate_fit.FF.h_A1(1)"
   ]
  },
  {
   "cell_type": "markdown",
   "id": "d9aebac1-ef97-46c7-875c-3bb393accfbf",
   "metadata": {},
   "source": [
    "## Chi2\n",
    "\n",
    "Next we need to implement our chi2 function. It has the form\n",
    "\n",
    "$\\chi^2 = \\chi^2_\\mathrm{Shape} + \\chi^2_\\mathrm{Norm} + \\chi^2_\\mathrm{Lattice}$\n",
    "\n",
    "We calculated the shape already, so let us start with that one."
   ]
  },
  {
   "cell_type": "code",
   "execution_count": 24,
   "id": "0b60afd4-3fa8-465d-b370-0c745dbb1cb2",
   "metadata": {},
   "outputs": [],
   "source": [
    "def chi2(a0, a1, a2, b0, b1, b2, c1, c2, c3, Vcb):\n",
    "    x = np.array([a0, a1, a2, b0, b1, b2, c1, c2, c3, Vcb])\n",
    "    \n",
    "    # chi2_shape = ...\n",
    "    # chi2_norm = ...\n",
    "    # chi2_lattice =  ...\n",
    "    \n",
    "    return 0  # sum of chi2"
   ]
  },
  {
   "cell_type": "markdown",
   "id": "61195a18-bbd2-4be1-9afc-34f49522dc8c",
   "metadata": {},
   "source": [
    "Number of coefficients for each form factor. Right now we use the numbers given by the lattice, but depending on the sensitivity of the data, the number of parameters has to be decreased to prevent overfitting."
   ]
  },
  {
   "cell_type": "code",
   "execution_count": 25,
   "id": "dbbc3163-3aad-41db-bbe7-7e6ae5219b29",
   "metadata": {},
   "outputs": [],
   "source": [
    "a = 3\n",
    "b = 3\n",
    "c = 2"
   ]
  },
  {
   "cell_type": "code",
   "execution_count": 29,
   "id": "1d954b1a-0058-4cf2-a566-9ec23b7b877c",
   "metadata": {},
   "outputs": [
    {
     "data": {
      "text/html": [
       "<table>\n",
       "    <tr>\n",
       "        <th colspan=\"5\" style=\"text-align:center\" title=\"Minimizer\"> Migrad </th>\n",
       "    </tr>\n",
       "    <tr>\n",
       "        <td colspan=\"2\" style=\"text-align:left\" title=\"Minimum value of function\"> FCN = 0 </td>\n",
       "        <td colspan=\"3\" style=\"text-align:center\" title=\"Total number of function and (optional) gradient evaluations\"> Nfcn = 294 </td>\n",
       "    </tr>\n",
       "    <tr>\n",
       "        <td colspan=\"2\" style=\"text-align:left\" title=\"Estimated distance to minimum and goal\"> EDM = 0 (Goal: 0.0002) </td>\n",
       "        <td colspan=\"3\" style=\"text-align:center\" title=\"Total run time of algorithms\">  </td>\n",
       "    </tr>\n",
       "    <tr>\n",
       "        <td colspan=\"2\" style=\"text-align:center;background-color:#c15ef7;color:black\"> INVALID Minimum </td>\n",
       "        <td colspan=\"3\" style=\"text-align:center;background-color:#92CCA6;color:black\"> No Parameters at limit </td>\n",
       "    </tr>\n",
       "    <tr>\n",
       "        <td colspan=\"2\" style=\"text-align:center;background-color:#92CCA6;color:black\"> Below EDM threshold (goal x 10) </td>\n",
       "        <td colspan=\"3\" style=\"text-align:center;background-color:#92CCA6;color:black\"> Below call limit </td>\n",
       "    </tr>\n",
       "    <tr>\n",
       "        <td style=\"text-align:center;background-color:#92CCA6;color:black\"> Covariance </td>\n",
       "        <td style=\"text-align:center;background-color:#c15ef7;color:black\"> Hesse FAILED </td>\n",
       "        <td style=\"text-align:center;background-color:#FFF79A;color:black\" title=\"Is covariance matrix accurate?\"> APPROXIMATE </td>\n",
       "        <td style=\"text-align:center;background-color:#c15ef7;color:black\" title=\"Is covariance matrix positive definite?\"> NOT pos. def. </td>\n",
       "        <td style=\"text-align:center;background-color:#92CCA6;color:black\" title=\"Was positive definiteness enforced by Minuit?\"> Not forced </td>\n",
       "    </tr>\n",
       "</table><table>\n",
       "    <tr>\n",
       "        <td></td>\n",
       "        <th title=\"Variable name\"> Name </th>\n",
       "        <th title=\"Value of parameter\"> Value </th>\n",
       "        <th title=\"Hesse error\"> Hesse Error </th>\n",
       "        <th title=\"Minos lower error\"> Minos Error- </th>\n",
       "        <th title=\"Minos upper error\"> Minos Error+ </th>\n",
       "        <th title=\"Lower limit of the parameter\"> Limit- </th>\n",
       "        <th title=\"Upper limit of the parameter\"> Limit+ </th>\n",
       "        <th title=\"Is the parameter fixed in the fit\"> Fixed </th>\n",
       "    </tr>\n",
       "    <tr>\n",
       "        <th> 0 </th>\n",
       "        <td> a0 </td>\n",
       "        <td> 3.3032e-2 </td>\n",
       "        <td> 0.0000e-2 </td>\n",
       "        <td>  </td>\n",
       "        <td>  </td>\n",
       "        <td>  </td>\n",
       "        <td>  </td>\n",
       "        <td>  </td>\n",
       "    </tr>\n",
       "    <tr>\n",
       "        <th> 1 </th>\n",
       "        <td> a1 </td>\n",
       "        <td> -1.552e-1 </td>\n",
       "        <td> 0.000e-1 </td>\n",
       "        <td>  </td>\n",
       "        <td>  </td>\n",
       "        <td>  </td>\n",
       "        <td>  </td>\n",
       "        <td>  </td>\n",
       "    </tr>\n",
       "    <tr>\n",
       "        <th> 2 </th>\n",
       "        <td> a2 </td>\n",
       "        <td> -1.2286e-1 </td>\n",
       "        <td> 0.0000e-1 </td>\n",
       "        <td>  </td>\n",
       "        <td>  </td>\n",
       "        <td>  </td>\n",
       "        <td>  </td>\n",
       "        <td>  </td>\n",
       "    </tr>\n",
       "    <tr>\n",
       "        <th> 3 </th>\n",
       "        <td> b0 </td>\n",
       "        <td> 1.2292e-2 </td>\n",
       "        <td> 0.0000e-2 </td>\n",
       "        <td>  </td>\n",
       "        <td>  </td>\n",
       "        <td>  </td>\n",
       "        <td>  </td>\n",
       "        <td>  </td>\n",
       "    </tr>\n",
       "    <tr>\n",
       "        <th> 4 </th>\n",
       "        <td> b1 </td>\n",
       "        <td> 1.2292e-2 </td>\n",
       "        <td> 0.0000e-2 </td>\n",
       "        <td>  </td>\n",
       "        <td>  </td>\n",
       "        <td>  </td>\n",
       "        <td>  </td>\n",
       "        <td>  </td>\n",
       "    </tr>\n",
       "    <tr>\n",
       "        <th> 5 </th>\n",
       "        <td> b2 </td>\n",
       "        <td> 6.7672e-2 </td>\n",
       "        <td> 0.0000e-2 </td>\n",
       "        <td>  </td>\n",
       "        <td>  </td>\n",
       "        <td>  </td>\n",
       "        <td>  </td>\n",
       "        <td>  </td>\n",
       "    </tr>\n",
       "    <tr>\n",
       "        <th> 6 </th>\n",
       "        <td> c1 </td>\n",
       "        <td> -5.7789e-3 </td>\n",
       "        <td> 0.0000e-3 </td>\n",
       "        <td>  </td>\n",
       "        <td>  </td>\n",
       "        <td>  </td>\n",
       "        <td>  </td>\n",
       "        <td>  </td>\n",
       "    </tr>\n",
       "    <tr>\n",
       "        <th> 7 </th>\n",
       "        <td> c2 </td>\n",
       "        <td> -1.2607e-2 </td>\n",
       "        <td> 0.0000e-2 </td>\n",
       "        <td>  </td>\n",
       "        <td>  </td>\n",
       "        <td>  </td>\n",
       "        <td>  </td>\n",
       "        <td>  </td>\n",
       "    </tr>\n",
       "    <tr>\n",
       "        <th> 8 </th>\n",
       "        <td> c3 </td>\n",
       "        <td> 0.0 </td>\n",
       "        <td> 0.1 </td>\n",
       "        <td>  </td>\n",
       "        <td>  </td>\n",
       "        <td>  </td>\n",
       "        <td>  </td>\n",
       "        <td> yes </td>\n",
       "    </tr>\n",
       "    <tr>\n",
       "        <th> 9 </th>\n",
       "        <td> Vcb </td>\n",
       "        <td> 1 </td>\n",
       "        <td> 0 </td>\n",
       "        <td>  </td>\n",
       "        <td>  </td>\n",
       "        <td>  </td>\n",
       "        <td>  </td>\n",
       "        <td>  </td>\n",
       "    </tr>\n",
       "</table>"
      ],
      "text/plain": [
       "┌─────────────────────────────────────────────────────────────────────────┐\n",
       "│                                Migrad                                   │\n",
       "├──────────────────────────────────┬──────────────────────────────────────┤\n",
       "│ FCN = 0                          │              Nfcn = 294              │\n",
       "│ EDM = 0 (Goal: 0.0002)           │                                      │\n",
       "├──────────────────────────────────┼──────────────────────────────────────┤\n",
       "│         INVALID Minimum          │        No Parameters at limit        │\n",
       "├──────────────────────────────────┼──────────────────────────────────────┤\n",
       "│ Below EDM threshold (goal x 10)  │           Below call limit           │\n",
       "├───────────────┬──────────────────┼───────────┬─────────────┬────────────┤\n",
       "│  Covariance   │   Hesse FAILED   │APPROXIMATE│NOT pos. def.│ Not forced │\n",
       "└───────────────┴──────────────────┴───────────┴─────────────┴────────────┘\n",
       "┌───┬──────┬───────────┬───────────┬────────────┬────────────┬─────────┬─────────┬───────┐\n",
       "│   │ Name │   Value   │ Hesse Err │ Minos Err- │ Minos Err+ │ Limit-  │ Limit+  │ Fixed │\n",
       "├───┼──────┼───────────┼───────────┼────────────┼────────────┼─────────┼─────────┼───────┤\n",
       "│ 0 │ a0   │ 3.3032e-2 │ 0.0000e-2 │            │            │         │         │       │\n",
       "│ 1 │ a1   │ -1.552e-1 │ 0.000e-1  │            │            │         │         │       │\n",
       "│ 2 │ a2   │-1.2286e-1 │ 0.0000e-1 │            │            │         │         │       │\n",
       "│ 3 │ b0   │ 1.2292e-2 │ 0.0000e-2 │            │            │         │         │       │\n",
       "│ 4 │ b1   │ 1.2292e-2 │ 0.0000e-2 │            │            │         │         │       │\n",
       "│ 5 │ b2   │ 6.7672e-2 │ 0.0000e-2 │            │            │         │         │       │\n",
       "│ 6 │ c1   │-5.7789e-3 │ 0.0000e-3 │            │            │         │         │       │\n",
       "│ 7 │ c2   │-1.2607e-2 │ 0.0000e-2 │            │            │         │         │       │\n",
       "│ 8 │ c3   │    0.0    │    0.1    │            │            │         │         │  yes  │\n",
       "│ 9 │ Vcb  │     1     │     0     │            │            │         │         │       │\n",
       "└───┴──────┴───────────┴───────────┴────────────┴────────────┴─────────┴─────────┴───────┘"
      ]
     },
     "execution_count": 29,
     "metadata": {},
     "output_type": "execute_result"
    }
   ],
   "source": [
    "m = Minuit(chi2, \n",
    "    a0=lattice_coefficients[0].n if a >= 1 else 0,\n",
    "    a1=lattice_coefficients[1].n if a >= 2 else 0,\n",
    "    a2=lattice_coefficients[2].n if a >= 3 else 0,\n",
    "    b0=lattice_coefficients[3].n if b >= 1 else 0,\n",
    "    b1=lattice_coefficients[3].n if b >= 2 else 0,\n",
    "    b2=lattice_coefficients[5].n if b >= 3 else 0,\n",
    "    c1=lattice_coefficients[6].n if c >= 1 else 0,\n",
    "    c2=lattice_coefficients[7].n if c >= 2 else 0,\n",
    "    c3=0,\n",
    "    Vcb=1,\n",
    "  )\n",
    "\n",
    "m.fixed[\"a0\"] = True if a <= 0 else False\n",
    "m.fixed[\"b0\"] = True if b <= 0 else False\n",
    "m.fixed[\"c1\"] = True if c <= 0 else False\n",
    "\n",
    "m.fixed[\"a1\"] = True if a <= 1 else False\n",
    "m.fixed[\"b1\"] = True if b <= 1 else False\n",
    "m.fixed[\"c2\"] = True if c <= 1 else False\n",
    "\n",
    "m.fixed[\"a2\"] = True if a <= 2 else False\n",
    "m.fixed[\"b2\"] = True if b <= 2 else False\n",
    "m.fixed[\"c3\"] = True if c <= 2 else False\n",
    "\n",
    "m.simplex()\n",
    "m.migrad() \n",
    "m.hesse()  \n",
    "m"
   ]
  },
  {
   "cell_type": "code",
   "execution_count": null,
   "id": "4b400156-cf23-4228-a4f4-e9afe2edef3a",
   "metadata": {},
   "outputs": [],
   "source": []
  },
  {
   "cell_type": "code",
   "execution_count": null,
   "id": "6e053b43-a0b3-4b85-aad9-9378a55847ed",
   "metadata": {},
   "outputs": [],
   "source": []
  }
 ],
 "metadata": {
  "kernelspec": {
   "display_name": "Python 3 (ipykernel)",
   "language": "python",
   "name": "python3"
  },
  "language_info": {
   "codemirror_mode": {
    "name": "ipython",
    "version": 3
   },
   "file_extension": ".py",
   "mimetype": "text/x-python",
   "name": "python",
   "nbconvert_exporter": "python",
   "pygments_lexer": "ipython3",
   "version": "3.8.8"
  },
  "toc-autonumbering": false
 },
 "nbformat": 4,
 "nbformat_minor": 5
}
